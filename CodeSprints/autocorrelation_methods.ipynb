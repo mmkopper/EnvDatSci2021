{
 "cells": [
  {
   "cell_type": "markdown",
   "id": "204733d1",
   "metadata": {},
   "source": [
    "## Spatial Autocorrelation and Regression Analysis\n",
    "In this tutorial, you will calculate a global Moran's I statistic to evaluate spatial autocorrelation in your data, and then explore different methods to account for spatial autocorrelation in your data. Specifically, we'll compare parameter estimates relating county income to 2016 county voting preferences using an OLS model, and autoregressive model, and an autocovariance function model.\n"
   ]
  },
  {
   "cell_type": "code",
   "execution_count": null,
   "id": "bf668f40",
   "metadata": {},
   "outputs": [],
   "source": [
    "import pysal as ps\n",
    "import numpy as np\n",
    "import geopandas as gpd\n",
    "import pandas as pd\n",
    "import matplotlib.pyplot as plt\n",
    "import seaborn as sns\n",
    "from libpysal.weights.contiguity import Queen\n",
    "import libpysal\n",
    "from splot.libpysal import plot_spatial_weights\n",
    "from splot.esda import moran_scatterplot\n",
    "from splot.esda import plot_moran\n",
    "from esda.moran import Moran_Local\n",
    "from esda.moran import Moran\n",
    "from statsmodels.api import OLS\n",
    "from pysal.model import spreg\n",
    "sns.set_style('white')"
   ]
  },
  {
   "cell_type": "markdown",
   "id": "daec4204",
   "metadata": {},
   "source": [
    "First, we're going to open 'Elections' dataset from the Geodata Center at the University of Chicago.\n",
    "\n",
    "* More on spatial data science resources from UC: https://spatial.uchicago.edu/\n",
    "* A list of datasets available through lipysal: https://geodacenter.github.io/data-and-lab//\n",
    "\n",
    "Using our multicollinearity.ipynb, we downloaded this dataset to *H:/EnvDatSci/election/election.shp*\n",
    "\n",
    "**Note: it may be on a different location on your computer**\n",
    "\n",
    "### TASK 1: if neccessary, edit the filepath below to access the \"election\" shapefile downloaded in the multicollinearity.ipnb script"
   ]
  },
  {
   "cell_type": "code",
   "execution_count": null,
   "id": "9de38c04",
   "metadata": {},
   "outputs": [],
   "source": [
    "# Task 1: is this the correct filepath on your computer? Change it!\n",
    "votes = gpd.read_file('H:/EnvDatSci/election/election.shp')"
   ]
  },
  {
   "cell_type": "code",
   "execution_count": null,
   "id": "8ae67e1e",
   "metadata": {},
   "outputs": [],
   "source": [
    "#Let's view the shapefile to get a general idea of the geometry we're looking at:\n",
    "%matplotlib inline\n",
    "votes.plot()"
   ]
  },
  {
   "cell_type": "code",
   "execution_count": null,
   "id": "7495565e",
   "metadata": {},
   "outputs": [],
   "source": [
    "#View the first few line]s of the dataset\n",
    "votes.head()"
   ]
  },
  {
   "cell_type": "markdown",
   "id": "e7b1b309",
   "metadata": {},
   "source": [
    "In our multicollinearity notebook, we visualized the voting trends, and the change in voting trends, in space. First we created a new column indicating the percent change in democratic vote. Then we plotted the percent democratic vote in 2012, the percent democratic vote in 2016, and the percent change in democratic vote as maps and using global histograms."
   ]
  },
  {
   "cell_type": "code",
   "execution_count": null,
   "id": "9be64d7b",
   "metadata": {},
   "outputs": [],
   "source": [
    "# Add new column pct_dem_change to votes:\n",
    "votes['pct_dem_change'] = votes['pct_dem_12'] - votes['pct_dem_16']\n",
    "\n",
    "f,ax = plt.subplots(3,2, figsize=(1.6*6 + 1,4.2*3), gridspec_kw=dict(width_ratios=(6,1)))\n",
    "for i,col in enumerate(['pct_dem_12','pct_dem_16', 'pct_dem_change']):\n",
    "    votes.plot(col, linewidth=.05, cmap='RdBu', ax=ax[i,0])\n",
    "    ax[i,0].set_title(['2012','2016', '2012-2016 change'][i] + \"% democratic vote\")\n",
    "    ax[i,0].set_xticklabels('')\n",
    "    ax[i,0].set_yticklabels('')\n",
    "    sns.kdeplot(votes[col].values, ax=ax[i,1], vertical=True, shade=True, color='slategrey')\n",
    "    ax[i,1].set_xticklabels('')\n",
    "    ax[i,1].set_ylim(-1,1)\n",
    "f.tight_layout()\n",
    "plt.show()"
   ]
  },
  {
   "cell_type": "markdown",
   "id": "1202f4f3",
   "metadata": {},
   "source": [
    "### Spatial Autocorrelation\n",
    "From https://www.sciencedirect.com/topics/computer-science/spatial-autocorrelation \n",
    "\n",
    ">\"Spatial autocorrelation is the term used to describe the presence of *systematic* spatial variation in a variable and positive spatial autocorrelation, which is most often encountered in practical situations, is the tendency for areas or sites that are close together to have similar values.\""
   ]
  },
  {
   "cell_type": "markdown",
   "id": "3df44574",
   "metadata": {},
   "source": [
    "### TASK 2: Do you see evidence for *spatial autocorrelation* in the three plots above? If so, describe the evidence that you see.\n",
    "\n",
    "*Type answer here.*"
   ]
  },
  {
   "cell_type": "markdown",
   "id": "ccfb1194",
   "metadata": {},
   "source": [
    "## Was the county wide percent change in democratic vote related to per capita income?\n",
    "The next question is how can we use robust statistics to determine whether per capita income was related to a chance in 2016 voting preferences. To do this, we're going to conduct a linear regression relating our parameters in pct_dem_change to INC910213. Then, we're going to use the confidence interval around beta hat (our slope parameter estimate) to determine whether the relationship between INC910213 and pct_dem_change is significantly different than zero.\n",
    "\n",
    "First we're going to visualize how these variables relate in the global data:"
   ]
  },
  {
   "cell_type": "code",
   "execution_count": null,
   "id": "60b4d30d",
   "metadata": {},
   "outputs": [],
   "source": [
    "votes.dropna(subset=['pct_dem_12','pct_dem_16'], inplace=True)"
   ]
  },
  {
   "cell_type": "code",
   "execution_count": null,
   "id": "2a152af9",
   "metadata": {},
   "outputs": [],
   "source": [
    "f,ax = plt.subplots(1,4, figsize=(4*3.1,4))\n",
    "votes[['INC910213','pct_dem_12']].plot.scatter('INC910213','pct_dem_12', ax=ax[0])\n",
    "ax[0].set_xlabel('Per capita income')\n",
    "ax[0].set_ylabel('2012 Two Party Vote (% Dem)')\n",
    "r = np.corrcoef(votes['pct_dem_16'].values, votes['pct_dem_12'].values)[0,1]\n",
    "\n",
    "votes[['INC910213','pct_dem_16']].plot.scatter('INC910213','pct_dem_16', ax=ax[1])\n",
    "ax[1].set_xlabel('Per capita income')\n",
    "ax[1].set_ylabel('2016 Two Party Vote (% Dem)')\n",
    "r = np.corrcoef(votes['INC910213'].values, votes['pct_dem_16'].values)[0,1]\n",
    "\n",
    "votes[['pct_dem_12','pct_dem_16']].plot.scatter('pct_dem_12','pct_dem_16', ax=ax[2])\n",
    "ax[2].set_xlabel('2012 Two Party Vote (% Dem)')\n",
    "ax[2].set_ylabel('2016 Two Party Vote (% Dem)')\n",
    "r = np.corrcoef(votes['pct_dem_12'].values, votes['pct_dem_16'].values)[0,1]\n",
    "\n",
    "\n",
    "votes[['INC910213','pct_dem_change']].plot.scatter('INC910213','pct_dem_change', ax=ax[3])\n",
    "ax[3].set_xlabel('Per capita income')\n",
    "ax[3].set_ylabel('% Change in Democratic Vote')\n",
    "r = np.corrcoef(votes['pct_pt_16'].values, votes['INC910213'].values)[0,1]\n",
    "\n",
    "f.tight_layout()\n",
    "plt.show()"
   ]
  },
  {
   "cell_type": "markdown",
   "id": "946cb5c6",
   "metadata": {},
   "source": [
    "What we're looking at in the first plot is the 2012 percent democratic vote, the second plot is the 2016 percent democratic vote, the third plot is the 2012 and 2016 percent democratic vote. In the fourth plot, we're looking at how per capital income (x axis) relates to % change in democratic vote. We want to establish a trendline in the fourth plot using linear regression, and determine of the slope in that trendline is statistically significant.\n",
    "\n",
    "### TASK 3: what are some features of this data that it look well-suited for linear regression? What are some features of this data that make it poorly suited for linear regression?\n",
    "\n",
    "*Type answer here.*"
   ]
  },
  {
   "cell_type": "markdown",
   "id": "e9715b4c",
   "metadata": {},
   "source": [
    "## Do we have spatial autocorrelation in our data?\n",
    "When we're looking at distributions of voting preferences, remember that we're aggregating these numbers over arbitrary (er...political) geographic regions. \n",
    "\n",
    "Each column in that dataframe represents a data value summarized over a US county, but US counties have widely different land areas and populations:"
   ]
  },
  {
   "cell_type": "code",
   "execution_count": null,
   "id": "17f683d0",
   "metadata": {},
   "outputs": [],
   "source": [
    "f,ax = plt.subplots(1,2, figsize=(2*3*1.6, 2))\n",
    "sns.kdeplot(votes['ALAND'].values, shade=True, color='slategrey', ax=ax[0])\n",
    "ax[0].set_xlabel('County Land Area')\n",
    "\n",
    "sns.kdeplot(votes['PST045214'].values, shade=True, color='slategrey', ax=ax[1])\n",
    "ax[1].set_xlabel('2014 County Population')"
   ]
  },
  {
   "cell_type": "markdown",
   "id": "cf0489d9",
   "metadata": {},
   "source": [
    "Our *spatial sampling rate* (by county) may not accurately represent the spatial frequency of variability in voting preferences and/or income. \n",
    "\n",
    "First, let's focus on the spatial componnet: the fact that these counties are different sizes. \n",
    "\n",
    "If we want to identify spatial autocorrelation in our data, we need to first understand how this spatial autocorrelation decays as a function of distance. \n",
    "\n",
    "To do this, we calculate the Moran's I statistic, which you can think of as the \"slope\" that we'd get when we regress data values for all geographic entities with data values that neighbor within a given distance. Lets look at our data in lat/lon space again:"
   ]
  },
  {
   "cell_type": "code",
   "execution_count": null,
   "id": "96a9cf37",
   "metadata": {},
   "outputs": [],
   "source": [
    "votes.plot()"
   ]
  },
  {
   "cell_type": "code",
   "execution_count": null,
   "id": "16e8ca7f",
   "metadata": {},
   "outputs": [],
   "source": [
    "votes.crs"
   ]
  },
  {
   "cell_type": "markdown",
   "id": "cc8c7a0d",
   "metadata": {},
   "source": [
    "### TASK 4: What is the horizontal unit (unit of distance) in our votes data?\n",
    "\n",
    "*Type answer here.*"
   ]
  },
  {
   "cell_type": "markdown",
   "id": "e6299038",
   "metadata": {},
   "source": [
    "One issue is that we're sampling spatially at a distinct, and heterogenous, granulatiry. The smallest unit of measurement available in our dataset is the county level. Counties are different sizes. How can we evaluate whether this spatial sampling granularity is of sufficient resolution to capture the scale of variability in our dataset?\n",
    "\n",
    "* If we are sampling at too course of a spatial scale, we run the risk of missing key patterns of variability in our data (**UNDERSAMPLING**) \n",
    "\n",
    "* If we are sampling at too fine of a sptial scale, we run the risk of violating assumptions of independence between our individual observations (**OVERSAMPLING**)\n",
    "\n",
    "### TASK 5: In your own words, describe how the spatial sampling scale of \"county\" might represent and oversampling or undersampling of data as it relates to our question (did per capital income impact change in voting preference\n",
    "\n",
    "*Type answer here."
   ]
  },
  {
   "cell_type": "markdown",
   "id": "718a4457",
   "metadata": {},
   "source": [
    "## Calculating a weights matrix:\n",
    "The first thing we want to tackle is a quantification of any spatial autocorrelation in our dataset. Spatial autocorrelation inflates our theoretical number of samples (N), artificially increasing the power in our test statistics. In other words, when we're calculating test statistics, spatial autocorrelation in our data can make it seem like parameters that are unimportant are actually significant.\n",
    "\n",
    "Since we're dealing with a heterogeneous sampling grid in our data, the first thing we want to do is calculate a weights matrix.\n",
    "\n",
    "We're going to use the Queen function in pysal to do this. Full documentation here: https://pysal.org/libpysal/generated/libpysal.weights.Queen.html\n",
    "\n",
    "Or just use the built in help with the function below:"
   ]
  },
  {
   "cell_type": "code",
   "execution_count": null,
   "id": "62af9d79",
   "metadata": {},
   "outputs": [],
   "source": [
    "??Queen\n",
    "\n",
    "#Click the \"X\" in the upper right corner of that help window that pops up to close it."
   ]
  },
  {
   "cell_type": "code",
   "execution_count": null,
   "id": "d621976e",
   "metadata": {},
   "outputs": [],
   "source": [
    "#Calculate weights object\n",
    "weights = Queen.from_dataframe(votes)\n",
    "\n",
    "#Use built in plot function to visualize how the weights matrix works\n",
    "plot_spatial_weights(weights, votes)\n",
    "plt.show()"
   ]
  },
  {
   "cell_type": "markdown",
   "id": "5142d0ef",
   "metadata": {},
   "source": [
    "The verticies in this plot represent two things: \n",
    "* First, they link \"neigbors\" based on the model parameters we set for defining neighborhood (here we use the defaul settings and consider any contiguous polygons). \n",
    "* The length of the verticies indicates the distance between the centers of neighborhing cells. \n",
    "\n",
    "\"Neighbors\" that are father matter less than \"neighbors\" that are closer in identifying the strength of spatial autocorrelation.\n",
    "\n",
    "## Calculate Moran's I:\n",
    "Moran's I statistic quantifies the spatial autocorrelation in your data. From https://en.wikipedia.org/wiki/Moran%27s_I\n",
    ">\"Spatial dependency leads to the spatial autocorrelation problem in statistics since, like temporal autocorrelation, this violates standard statistical techniques that assume independence among observations. For example, regression analyses that do not compensate for spatial dependency can have unstable parameter estimates and yield unreliable significance tests. Spatial regression models (see below) capture these relationships and do not suffer from these weaknesses. It is also appropriate to view spatial dependency as a source of information rather than something to be corrected.\""
   ]
  },
  {
   "cell_type": "code",
   "execution_count": null,
   "id": "6c0046ce",
   "metadata": {},
   "outputs": [],
   "source": [
    "# calculate Moran and plot\n",
    "moran = Moran(votes['pct_dem_16'], w=weights)\n",
    "plot_moran(moran, zstandard=True, figsize=(10,4))\n",
    "plt.show()"
   ]
  },
  {
   "cell_type": "markdown",
   "id": "ed64faec",
   "metadata": {},
   "source": [
    "### TASK 6: Do we have statistically significant evidence (at alpha = 0.05) of spatial autocorrelation in our response variable (Percent change in democratic vote, or pct_pt_16)?\n",
    "Use code cell below as your \"calculator\". \n",
    "\n",
    "*Type answer here.*"
   ]
  },
  {
   "cell_type": "code",
   "execution_count": null,
   "id": "6dc43d35",
   "metadata": {},
   "outputs": [],
   "source": [
    "# What is the null hypothesis?\n",
    "# What is the alternative hypothesis?\n",
    "# What is our test statistic?\n",
    "# How can we derive the test statistic from our \"moran\" object?\n",
    "# HINT:\n",
    "?moran"
   ]
  },
  {
   "cell_type": "markdown",
   "id": "3c4a0cf8",
   "metadata": {},
   "source": [
    "## Caluculate a linear regression on the global data:\n",
    "In this next step, we're going to calculate a linear regression in our data an determine whether that analysis determines a statistically significant relationship between our percent income and percent change in democratic vote."
   ]
  },
  {
   "cell_type": "code",
   "execution_count": null,
   "id": "e55c1a44",
   "metadata": {},
   "outputs": [],
   "source": [
    "#first, forumalate the model. See weather_trend.py in \"Git_101\" for a refresher on how.\n",
    "\n",
    "#extract variable that you want to use to \"predict\"\n",
    "X = np.array(votes['PST045214'].values)\n",
    "\n",
    "#extract variable that we want to \"predict\"\n",
    "Y = np.array(votes['pct_dem_16'].values)\n",
    "\n",
    "lm = OLS(Y,X)\n",
    "lm_results = OLS(Y,X).fit().summary()"
   ]
  },
  {
   "cell_type": "code",
   "execution_count": null,
   "id": "87742e33",
   "metadata": {},
   "outputs": [],
   "source": [
    "print(lm_results)"
   ]
  },
  {
   "cell_type": "markdown",
   "id": "2519a000",
   "metadata": {},
   "source": [
    "### TASK 7: Do we have statistically significant evidence (at alpha = 0.05) of a statistically significant relationship between pct_pt_16 and PST045214? How does PST045214 impact pct_pt_16? Use numbers to back your claim.\n",
    "\n",
    "*Type answer here.*"
   ]
  },
  {
   "cell_type": "markdown",
   "id": "36455c77",
   "metadata": {},
   "source": [
    "Now, let's plot our residuals to see if there are any spatial patterns in them.\n",
    "\n",
    "Remember residuals = predicted - fitted values"
   ]
  },
  {
   "cell_type": "code",
   "execution_count": null,
   "id": "dc536529",
   "metadata": {},
   "outputs": [],
   "source": [
    "#Add model residuals to our \"votes\" geopandas dataframe:\n",
    "votes['lm_resid']=lm.fit().resid"
   ]
  },
  {
   "cell_type": "markdown",
   "id": "2f4c820e",
   "metadata": {},
   "source": [
    "Remember, in OLS regression we depend out our residuals being normally distributed:"
   ]
  },
  {
   "cell_type": "code",
   "execution_count": null,
   "id": "83acdb7d",
   "metadata": {},
   "outputs": [],
   "source": [
    "sns.kdeplot(votes['lm_resid'].values, shade=True, color='slategrey')\n",
    "ax[1].set_xlabel('OLS residuals')"
   ]
  },
  {
   "cell_type": "code",
   "execution_count": null,
   "id": "3eb22616",
   "metadata": {},
   "outputs": [],
   "source": [
    "#Plot them in space:\n",
    "votes.plot('lm_resid', linewidth=.05, cmap='RdBu')"
   ]
  },
  {
   "cell_type": "markdown",
   "id": "516de425",
   "metadata": {},
   "source": [
    "So, these are very not normal residuals. What's going on?\n",
    "\n",
    "### TASK 8: What does a positive residual mean here (the model overpredicted change in democratic vote, the model underpredicted change in democratic vote)?\n",
    "One way we can evaluate whether spatial autocorrelation has impacted our results is if we see spatial autocorrelation in the residuals:"
   ]
  },
  {
   "cell_type": "code",
   "execution_count": null,
   "id": "ade8d55c",
   "metadata": {},
   "outputs": [],
   "source": [
    "# calculate Moran and plot\n",
    "moran = Moran(votes['lm_resid'], w=weights)\n",
    "plot_moran(moran, zstandard=True, figsize=(10,4))\n",
    "plt.show()"
   ]
  },
  {
   "cell_type": "markdown",
   "id": "b53f4160",
   "metadata": {},
   "source": [
    "### TASK 9: Do we have correlated residuals (use numbers to back your answer)?\n",
    "\n",
    "*Type answer here.*\n",
    "\n",
    "## Autocovariate regression: spatial lag model\n",
    "Let's see if we can get different answers by accounting for our residuals in our model. First, we'll try a spatial lag model. A spatial lag model is a type of autocovariate model that assumes that dependencies exist directly among the levels of the dependent variable, and models them as an \"autocovariate\". So we create an autocovariate function that describes the degree to which the percent change in democratic vote at one location is affected by the percent change in democratic vote at the nearby locations. The coefficient and p-value for the autocovariate function are interpreted as for the independent variables."
   ]
  },
  {
   "cell_type": "code",
   "execution_count": null,
   "id": "99e24fbf",
   "metadata": {},
   "outputs": [],
   "source": [
    "X = np.array(votes['PST045214'].values).T\n",
    "X.shape = (len(Y),1)\n",
    "Y = np.array(votes['pct_dem_16'].values).T\n",
    "Y.shape = (len(Y),1)\n",
    "\n",
    "lag=spreg.ML_Lag(Y, X, weights)\n",
    "print(lag.summary)\n"
   ]
  },
  {
   "cell_type": "code",
   "execution_count": null,
   "id": "573a0466",
   "metadata": {},
   "outputs": [],
   "source": [
    "#Add model residuals to our \"votes\" geopandas dataframe:\n",
    "votes['slm_resid']=lag.u\n",
    "sns.kdeplot(votes['slm_resid'].values, shade=True, color='slategrey')\n",
    "ax[1].set_xlabel('SLM residuals')"
   ]
  },
  {
   "cell_type": "code",
   "execution_count": null,
   "id": "1cac878b",
   "metadata": {},
   "outputs": [],
   "source": [
    "#Plot them in spac:\n",
    "votes.plot('slm_resid', linewidth=.05, cmap='RdBu')"
   ]
  },
  {
   "cell_type": "code",
   "execution_count": null,
   "id": "c1d8bae8",
   "metadata": {},
   "outputs": [],
   "source": [
    "# calculate Moran and plot\n",
    "moran = Moran(votes['slm_resid'], w=weights)\n",
    "plot_moran(moran, zstandard=True, figsize=(10,4))\n",
    "plt.show()"
   ]
  },
  {
   "cell_type": "markdown",
   "id": "66b557bf",
   "metadata": {},
   "source": [
    "### TASK 10: When we account for spatial autocorrelation in our data using the spatial lag model, do we still see a significant relationship between our response and predictor variable? Do you think this is a valid approach? Why or why not?\n",
    "\n",
    "*Type answer here.*\n",
    "\n",
    "## Spatial autoregressive model (maximum likelihood spatial error model)\n",
    "Instead of modelling spatial dependence using an autocovariate, we use a similar type of weight structure (here called \"lambda\") to weight the error matrix:"
   ]
  },
  {
   "cell_type": "code",
   "execution_count": null,
   "id": "a5af7407",
   "metadata": {},
   "outputs": [],
   "source": [
    "error = spreg.ML_Error(Y, X, weights)\n",
    "print(error.summary)"
   ]
  },
  {
   "cell_type": "code",
   "execution_count": null,
   "id": "78aabbf5",
   "metadata": {},
   "outputs": [],
   "source": [
    "#Add model residuals to our \"votes\" geopandas dataframe:\n",
    "votes['mlError_resid']=error.u\n",
    "sns.kdeplot(votes['mlError_resid'].values, shade=True, color='slategrey')\n",
    "ax[1].set_xlabel('MLError residuals')"
   ]
  },
  {
   "cell_type": "code",
   "execution_count": null,
   "id": "44ee8a40",
   "metadata": {},
   "outputs": [],
   "source": [
    "#Plot them in spac:\n",
    "votes.plot('slm_resid', linewidth=.05, cmap='RdBu')"
   ]
  },
  {
   "cell_type": "code",
   "execution_count": null,
   "id": "571ee9f5",
   "metadata": {},
   "outputs": [],
   "source": [
    "# calculate Moran and plot\n",
    "moran = Moran(votes['slm_resid'], w=weights)\n",
    "plot_moran(moran, zstandard=True, figsize=(10,4))\n",
    "plt.show()"
   ]
  },
  {
   "cell_type": "markdown",
   "id": "10b263ab",
   "metadata": {},
   "source": [
    "### TASK 11: Given these three models, do you believe that there is a relationship between percent change in democratic vote and income level? Why or why not?\n",
    "\n",
    "*Type answer here.*"
   ]
  }
 ],
 "metadata": {
  "kernelspec": {
   "display_name": "geostats_env",
   "language": "python",
   "name": "geostats_env"
  },
  "language_info": {
   "codemirror_mode": {
    "name": "ipython",
    "version": 3
   },
   "file_extension": ".py",
   "mimetype": "text/x-python",
   "name": "python",
   "nbconvert_exporter": "python",
   "pygments_lexer": "ipython3",
   "version": "3.7.11"
  }
 },
 "nbformat": 4,
 "nbformat_minor": 5
}
